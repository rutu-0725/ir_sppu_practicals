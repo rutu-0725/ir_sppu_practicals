{
 "cells": [
  {
   "cell_type": "code",
   "execution_count": 6,
   "id": "616d5f6f-8b40-46a2-b9c0-29a83653c0cf",
   "metadata": {},
   "outputs": [],
   "source": [
    "import numpy as np\n",
    "import pandas as pd\n",
    "from pgmpy.models import BayesianModel\n",
    "from pgmpy.estimators import MaximumLikelihoodEstimator \n",
    "from pgmpy.inference import VariableElimination"
   ]
  },
  {
   "cell_type": "code",
   "execution_count": 7,
   "id": "48ec1408-9e3b-4f2e-b3ad-4120a19c0a45",
   "metadata": {},
   "outputs": [
    {
     "name": "stderr",
     "output_type": "stream",
     "text": [
      "WARNING:pgmpy:BayesianModel has been renamed to BayesianNetwork. Please use BayesianNetwork class, BayesianModel will be removed in future.\n",
      "WARNING:pgmpy:BayesianModel has been renamed to BayesianNetwork. Please use BayesianNetwork class, BayesianModel will be removed in future.\n",
      "WARNING:pgmpy:BayesianModel has been renamed to BayesianNetwork. Please use BayesianNetwork class, BayesianModel will be removed in future.\n",
      "WARNING:pgmpy:BayesianModel has been renamed to BayesianNetwork. Please use BayesianNetwork class, BayesianModel will be removed in future.\n"
     ]
    },
    {
     "name": "stdout",
     "output_type": "stream",
     "text": [
      "Few examples from the dataset are given below : \n",
      "\n",
      "   age  sex  cp  trestbps  chol  fbs  restecg  thalach  exang  oldpeak  slope  \\\n",
      "0   63    1   1       145   233    1        2      150      0      2.3      3   \n",
      "1   67    1   4       160   286    0        2      108      1      1.5      2   \n",
      "2   67    1   4       120   229    0        2      129      1      2.6      2   \n",
      "3   37    1   3       130   250    0        0      187      0      3.5      3   \n",
      "4   41    0   2       130   204    0        2      172      0      1.4      1   \n",
      "\n",
      "  ca thal  heartdisease  \n",
      "0  0    6             0  \n",
      "1  3    3             2  \n",
      "2  2    7             1  \n",
      "3  0    3             0  \n",
      "4  0    3             0  \n",
      "\n",
      "Learning CPD using Maximum likelihood estimators\n",
      "Inferencing with Bayesian Network:\n",
      "1. Probability of HeartDisease given Age=38\n",
      "+-----------------+---------------------+\n",
      "| heartdisease    |   phi(heartdisease) |\n",
      "+=================+=====================+\n",
      "| heartdisease(0) |              0.7026 |\n",
      "+-----------------+---------------------+\n",
      "| heartdisease(1) |              0.1024 |\n",
      "+-----------------+---------------------+\n",
      "| heartdisease(2) |              0.0577 |\n",
      "+-----------------+---------------------+\n",
      "| heartdisease(3) |              0.0631 |\n",
      "+-----------------+---------------------+\n",
      "| heartdisease(4) |              0.0741 |\n",
      "+-----------------+---------------------+\n",
      "\n",
      " 2. Probability of HeartDisease given cholesterol=230\n"
     ]
    },
    {
     "name": "stderr",
     "output_type": "stream",
     "text": [
      "WARNING:pgmpy:BayesianModel has been renamed to BayesianNetwork. Please use BayesianNetwork class, BayesianModel will be removed in future.\n"
     ]
    },
    {
     "name": "stdout",
     "output_type": "stream",
     "text": [
      "+-----------------+---------------------+\n",
      "| heartdisease    |   phi(heartdisease) |\n",
      "+=================+=====================+\n",
      "| heartdisease(0) |              0.0000 |\n",
      "+-----------------+---------------------+\n",
      "| heartdisease(1) |              0.3270 |\n",
      "+-----------------+---------------------+\n",
      "| heartdisease(2) |              0.3059 |\n",
      "+-----------------+---------------------+\n",
      "| heartdisease(3) |              0.0000 |\n",
      "+-----------------+---------------------+\n",
      "| heartdisease(4) |              0.3671 |\n",
      "+-----------------+---------------------+\n"
     ]
    }
   ],
   "source": [
    "# Read Cleveland Heart Disease data \n",
    "heartDisease = pd.read_csv('heart.csv') \n",
    "heartDisease = heartDisease.replace('?',np.nan)\n",
    "\n",
    "# Display the data\n",
    "print(f\"Few examples from the dataset are given below : \\n\\n{heartDisease.head()}\")\n",
    "\n",
    "# Model Bayesian Network\n",
    "model = BayesianModel([('age','trestbps'),('age','fbs'),('sex','trestbps'),('exang','trestbps'),('trestbps','heartdisease'),\n",
    "                       ('fbs','heartdisease'),('heartdisease','restecg'), ('heartdisease','thalach'),('heartdisease','chol')])\n",
    "\n",
    "# Learning CPDs using Maximum Likelihood Estimators\n",
    "print('\\nLearning CPD using Maximum likelihood estimators')\n",
    "model.fit(heartDisease, estimator=MaximumLikelihoodEstimator)\n",
    "\n",
    "# Inferencing with Bayesian Network \n",
    "print('Inferencing with Bayesian Network:') \n",
    "HeartDisease_infer = VariableElimination(model)\n",
    "\n",
    "# Computing the Probability of HeartDisease given Age\n",
    "print('1. Probability of HeartDisease given Age=38') \n",
    "q = HeartDisease_infer.query(variables=['heartdisease'], evidence={'age':38})\n",
    "print(q)\n",
    "\n",
    "# Computing the Probability of HeartDisease given cholesterol \n",
    "print('\\n 2. Probability of HeartDisease given cholesterol=230') \n",
    "q=HeartDisease_infer.query(variables=['heartdisease'], evidence ={'chol':230})\n",
    "print(q)"
   ]
  },
  {
   "cell_type": "code",
   "execution_count": 2,
   "id": "9b02d574-3e2b-4b28-a532-33bb6fc606bd",
   "metadata": {},
   "outputs": [
    {
     "name": "stdout",
     "output_type": "stream",
     "text": [
      "Few examples from the dataset are given below : \n",
      "\n",
      "   age  sex  cp  trestbps  chol  fbs  restecg  thalach  exang  oldpeak  slope  \\\n",
      "0   63    1   1       145   233    1        2      150      0      2.3      3   \n",
      "1   67    1   4       160   286    0        2      108      1      1.5      2   \n",
      "2   67    1   4       120   229    0        2      129      1      2.6      2   \n",
      "3   37    1   3       130   250    0        0      187      0      3.5      3   \n",
      "4   41    0   2       130   204    0        2      172      0      1.4      1   \n",
      "\n",
      "  ca thal  heartdisease  \n",
      "0  0    6             0  \n",
      "1  3    3             2  \n",
      "2  2    7             1  \n",
      "3  0    3             0  \n",
      "4  0    3             0  \n"
     ]
    }
   ],
   "source": [
    "# Read Cleveland Heart Disease data \n",
    "heartDisease = pd.read_csv('heart.csv') \n",
    "heartDisease = heartDisease.replace('?', np.nan)\n",
    "\n",
    "\n",
    "# Display the data\n",
    "print(f\"Few examples from the dataset are given below : \\n\\n{heartDisease.head()}\")"
   ]
  },
  {
   "cell_type": "code",
   "execution_count": null,
   "id": "2c5420e4-4aae-4928-8f4e-a1a20b604558",
   "metadata": {},
   "outputs": [],
   "source": []
  }
 ],
 "metadata": {
  "kernelspec": {
   "display_name": "Python 3 (ipykernel)",
   "language": "python",
   "name": "python3"
  },
  "language_info": {
   "codemirror_mode": {
    "name": "ipython",
    "version": 3
   },
   "file_extension": ".py",
   "mimetype": "text/x-python",
   "name": "python",
   "nbconvert_exporter": "python",
   "pygments_lexer": "ipython3",
   "version": "3.11.7"
  }
 },
 "nbformat": 4,
 "nbformat_minor": 5
}
